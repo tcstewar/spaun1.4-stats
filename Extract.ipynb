{
 "cells": [
  {
   "cell_type": "code",
   "execution_count": 2,
   "metadata": {
    "collapsed": true
   },
   "outputs": [],
   "source": [
    "class Ensemble(object):\n",
    "    def __init__(self, name, tau_rc, tau_ref, n_neurons, dims):\n",
    "        self.name = name\n",
    "        self.tau_rc = tau_rc\n",
    "        self.tau_ref = tau_ref\n",
    "        self.n_neurons = n_neurons\n",
    "        self.dims = dims\n",
    "        self.connections = {}\n",
    "    def add(self, decoder, target_name, transform, synapse):\n",
    "        if synapse not in self.connections:\n",
    "            self.connections[synapse] = set()\n",
    "        self.connections[synapse].add(target_name)\n",
    "\n",
    "\n",
    "class Reader(object):\n",
    "    def __init__(self, filename):\n",
    "        self.ensembles = {}\n",
    "        self.read(open(filename))\n",
    "\n",
    "    def total_neurons(self):\n",
    "        return sum(ens.n_neurons for ens in self.ensembles.values())\n",
    "\n",
    "    def read(self, f):\n",
    "        ens = None\n",
    "        for line in f.readlines():\n",
    "            if line.startswith(' '):\n",
    "                line = line.strip()\n",
    "                decoder, target = line.split(', ', 1)\n",
    "                assert target[0] == '['\n",
    "                assert target[-1] == ']'\n",
    "                target = target[1:-2]\n",
    "                if len(target) > 0:\n",
    "                    targets = target.split('),')\n",
    "                    for t in targets:\n",
    "                        t = t[1:]\n",
    "                        name, t = t.split(', ', 1)\n",
    "                        transform, synapse = t.rsplit(', ', 1)\n",
    "                        while name[-1] == '#':\n",
    "                            name = name[:-1]\n",
    "                        ens.add(decoder, name, transform, synapse)\n",
    "            else:\n",
    "                data = line.strip().split(', ')\n",
    "                name, tau_rc, tau_ref, n_neurons, dims = data\n",
    "                ens = Ensemble(name=name,\n",
    "                               tau_rc=float(tau_rc),\n",
    "                               tau_ref=float(tau_ref),\n",
    "                               n_neurons=int(n_neurons),\n",
    "                               dims=int(dims))\n",
    "                assert name not in self.ensembles\n",
    "                self.ensembles[name] = ens\n"
   ]
  },
  {
   "cell_type": "code",
   "execution_count": 3,
   "metadata": {
    "collapsed": false
   },
   "outputs": [],
   "source": [
    "r = Reader('spaun-v5.txt')"
   ]
  },
  {
   "cell_type": "code",
   "execution_count": 4,
   "metadata": {
    "collapsed": false
   },
   "outputs": [
    {
     "data": {
      "text/plain": [
       "2742962"
      ]
     },
     "execution_count": 4,
     "metadata": {},
     "output_type": "execute_result"
    }
   ],
   "source": [
    "\n",
    "r.total_neurons()"
   ]
  },
  {
   "cell_type": "code",
   "execution_count": 5,
   "metadata": {
    "collapsed": false
   },
   "outputs": [
    {
     "data": {
      "text/plain": [
       "70378003180"
      ]
     },
     "execution_count": 5,
     "metadata": {},
     "output_type": "execute_result"
    }
   ],
   "source": [
    "def fan_out(reader):\n",
    "    total_out = 0\n",
    "    for ens in reader.ensembles.values():\n",
    "        ens.fan_out = 0\n",
    "        for syn, targets in ens.connections.items():\n",
    "            ens.fan_out += sum(reader.ensembles[n].n_neurons for n in targets)\n",
    "        total_out += ens.n_neurons*ens.fan_out\n",
    "    return total_out\n",
    "\n",
    "fan_out(r)"
   ]
  },
  {
   "cell_type": "code",
   "execution_count": 6,
   "metadata": {
    "collapsed": true
   },
   "outputs": [],
   "source": [
    "def connections(reader):\n",
    "    conns = []\n",
    "    \n",
    "    for pre_name, ens in reader.ensembles.items():\n",
    "        for syn, targets in ens.connections.items():\n",
    "            for post_name in targets:\n",
    "                n_pre = ens.n_neurons\n",
    "                n_post = reader.ensembles[post_name].n_neurons\n",
    "                n_weights = n_pre*n_post\n",
    "                c = (pre_name, post_name, syn, n_pre, n_post)\n",
    "                conns.append(c)\n",
    "    return conns\n",
    "\n",
    "conns = connections(r)"
   ]
  },
  {
   "cell_type": "code",
   "execution_count": 7,
   "metadata": {
    "collapsed": false
   },
   "outputs": [
    {
     "name": "stdout",
     "output_type": "stream",
     "text": [
      "70378003180\n"
     ]
    }
   ],
   "source": [
    "print sum(c[3]*c[4] for c in conns)"
   ]
  },
  {
   "cell_type": "code",
   "execution_count": 8,
   "metadata": {
    "collapsed": false
   },
   "outputs": [
    {
     "name": "stdout",
     "output_type": "stream",
     "text": [
      "2467349\n"
     ]
    }
   ],
   "source": [
    "print len(conns)"
   ]
  },
  {
   "cell_type": "code",
   "execution_count": 9,
   "metadata": {
    "collapsed": false
   },
   "outputs": [],
   "source": [
    "def save_conns(filename, conns):\n",
    "    f = open(filename, 'w')\n",
    "    for c in conns:\n",
    "        f.write('%s, %s, %s, %d, %d\\n' % c)\n",
    "    f.close()\n",
    "save_conns('spaun-v5-conns.txt', conns)"
   ]
  },
  {
   "cell_type": "code",
   "execution_count": 11,
   "metadata": {
    "collapsed": false
   },
   "outputs": [
    {
     "ename": "KeyboardInterrupt",
     "evalue": "",
     "output_type": "error",
     "traceback": [
      "\u001b[1;31m---------------------------------------------------------------------------\u001b[0m",
      "\u001b[1;31mKeyboardInterrupt\u001b[0m                         Traceback (most recent call last)",
      "\u001b[1;32m<ipython-input-11-4fb5dec51f54>\u001b[0m in \u001b[0;36m<module>\u001b[1;34m()\u001b[0m\n\u001b[0;32m      9\u001b[0m \u001b[0mtotal\u001b[0m \u001b[1;33m=\u001b[0m \u001b[1;36m0\u001b[0m\u001b[1;33m\u001b[0m\u001b[0m\n\u001b[0;32m     10\u001b[0m \u001b[1;32mfor\u001b[0m \u001b[0mname\u001b[0m \u001b[1;32min\u001b[0m \u001b[0mr\u001b[0m\u001b[1;33m.\u001b[0m\u001b[0mensembles\u001b[0m\u001b[1;33m.\u001b[0m\u001b[0mkeys\u001b[0m\u001b[1;33m(\u001b[0m\u001b[1;33m)\u001b[0m\u001b[1;33m:\u001b[0m\u001b[1;33m\u001b[0m\u001b[0m\n\u001b[1;32m---> 11\u001b[1;33m     \u001b[0mtotal\u001b[0m \u001b[1;33m+=\u001b[0m \u001b[0mr\u001b[0m\u001b[1;33m.\u001b[0m\u001b[0mensembles\u001b[0m\u001b[1;33m[\u001b[0m\u001b[0mname\u001b[0m\u001b[1;33m]\u001b[0m\u001b[1;33m.\u001b[0m\u001b[0mn_neurons\u001b[0m \u001b[1;33m*\u001b[0m \u001b[0mcalc_fanout\u001b[0m\u001b[1;33m(\u001b[0m\u001b[0mname\u001b[0m\u001b[1;33m,\u001b[0m \u001b[0mconns\u001b[0m\u001b[1;33m)\u001b[0m\u001b[1;33m\u001b[0m\u001b[0m\n\u001b[0m\u001b[0;32m     12\u001b[0m \u001b[1;32mprint\u001b[0m \u001b[0mtotal\u001b[0m\u001b[1;33m\u001b[0m\u001b[0m\n\u001b[0;32m     13\u001b[0m \u001b[1;33m\u001b[0m\u001b[0m\n",
      "\u001b[1;32m<ipython-input-11-4fb5dec51f54>\u001b[0m in \u001b[0;36mcalc_fanout\u001b[1;34m(name, conns)\u001b[0m\n\u001b[0;32m      3\u001b[0m     \u001b[0mfanout\u001b[0m \u001b[1;33m=\u001b[0m \u001b[1;36m0\u001b[0m\u001b[1;33m\u001b[0m\u001b[0m\n\u001b[0;32m      4\u001b[0m     \u001b[1;32mfor\u001b[0m \u001b[0mc\u001b[0m \u001b[1;32min\u001b[0m \u001b[0mconns\u001b[0m\u001b[1;33m:\u001b[0m\u001b[1;33m\u001b[0m\u001b[0m\n\u001b[1;32m----> 5\u001b[1;33m         \u001b[1;32mif\u001b[0m \u001b[0mc\u001b[0m\u001b[1;33m[\u001b[0m\u001b[1;36m0\u001b[0m\u001b[1;33m]\u001b[0m \u001b[1;33m==\u001b[0m \u001b[0mname\u001b[0m\u001b[1;33m:\u001b[0m\u001b[1;33m\u001b[0m\u001b[0m\n\u001b[0m\u001b[0;32m      6\u001b[0m             \u001b[0mfanout\u001b[0m \u001b[1;33m+=\u001b[0m \u001b[0mc\u001b[0m\u001b[1;33m[\u001b[0m\u001b[1;36m4\u001b[0m\u001b[1;33m]\u001b[0m\u001b[1;33m\u001b[0m\u001b[0m\n\u001b[0;32m      7\u001b[0m     \u001b[1;32mreturn\u001b[0m \u001b[0mfanout\u001b[0m\u001b[1;33m\u001b[0m\u001b[0m\n",
      "\u001b[1;31mKeyboardInterrupt\u001b[0m: "
     ]
    }
   ],
   "source": []
  },
  {
   "cell_type": "code",
   "execution_count": null,
   "metadata": {
    "collapsed": true
   },
   "outputs": [],
   "source": []
  }
 ],
 "metadata": {
  "kernelspec": {
   "display_name": "Python 2",
   "language": "python",
   "name": "python2"
  },
  "language_info": {
   "codemirror_mode": {
    "name": "ipython",
    "version": 2
   },
   "file_extension": ".py",
   "mimetype": "text/x-python",
   "name": "python",
   "nbconvert_exporter": "python",
   "pygments_lexer": "ipython2",
   "version": "2.7.6"
  }
 },
 "nbformat": 4,
 "nbformat_minor": 0
}
